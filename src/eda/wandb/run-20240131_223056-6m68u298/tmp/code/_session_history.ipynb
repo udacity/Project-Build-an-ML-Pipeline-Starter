{
 "cells": [
  {
   "cell_type": "code",
   "execution_count": 1,
   "id": "426e147f",
   "metadata": {},
   "outputs": [],
   "source": [
    "!pip install wandb==0.13.9\n",
    "!pip install pandas-profiling==3.6.2\n",
    "!pip install pandas==1.2.3"
   ]
  },
  {
   "cell_type": "code",
   "execution_count": 2,
   "id": "c9604e10",
   "metadata": {},
   "outputs": [
    {
     "data": {
      "text/html": [
       "wandb version 0.16.2 is available!  To upgrade, please run:\n",
       " $ pip install wandb --upgrade"
      ],
      "text/plain": [
       "<IPython.core.display.HTML object>"
      ]
     },
     "metadata": {},
     "output_type": "display_data"
    },
    {
     "data": {
      "text/html": [
       "Tracking run with wandb version 0.13.9"
      ],
      "text/plain": [
       "<IPython.core.display.HTML object>"
      ]
     },
     "metadata": {},
     "output_type": "display_data"
    },
    {
     "data": {
      "text/html": [
       "Run data is saved locally in <code>/home/andrea_bredesen/Project-Build-an-ML-Pipeline-Starter/src/eda/wandb/run-20240131_223056-6m68u298</code>"
      ],
      "text/plain": [
       "<IPython.core.display.HTML object>"
      ]
     },
     "metadata": {},
     "output_type": "display_data"
    },
    {
     "data": {
      "text/html": [
       "Syncing run <strong><a href=\"https://wandb.ai/abredesenteam/nyc_airbnb/runs/6m68u298\" target=\"_blank\">neat-disco-2</a></strong> to <a href=\"https://wandb.ai/abredesenteam/nyc_airbnb\" target=\"_blank\">Weights & Biases</a> (<a href=\"https://wandb.me/run\" target=\"_blank\">docs</a>)<br/>"
      ],
      "text/plain": [
       "<IPython.core.display.HTML object>"
      ]
     },
     "metadata": {},
     "output_type": "display_data"
    },
    {
     "data": {
      "text/html": [
       " View project at <a href=\"https://wandb.ai/abredesenteam/nyc_airbnb\" target=\"_blank\">https://wandb.ai/abredesenteam/nyc_airbnb</a>"
      ],
      "text/plain": [
       "<IPython.core.display.HTML object>"
      ]
     },
     "metadata": {},
     "output_type": "display_data"
    },
    {
     "data": {
      "text/html": [
       " View run at <a href=\"https://wandb.ai/abredesenteam/nyc_airbnb/runs/6m68u298\" target=\"_blank\">https://wandb.ai/abredesenteam/nyc_airbnb/runs/6m68u298</a>"
      ],
      "text/plain": [
       "<IPython.core.display.HTML object>"
      ]
     },
     "metadata": {},
     "output_type": "display_data"
    }
   ],
   "source": [
    "import wandb\n",
    "import pandas as pd\n",
    "# Note that we use save_code=True in the call to wandb.init so the notebook is uploaded and versioned by W&B\n",
    "run = wandb.init(project=\"nyc_airbnb\", group=\"eda\", save_code=True)\n",
    "local_path = wandb.use_artifact(\"sample.csv:latest\").file()\n",
    "df = pd.read_csv(local_path)"
   ]
  },
  {
   "cell_type": "code",
   "execution_count": 3,
   "id": "84b01f47",
   "metadata": {},
   "outputs": [],
   "source": [
    "df.info()"
   ]
  },
  {
   "cell_type": "code",
   "execution_count": 4,
   "id": "47ca0a40",
   "metadata": {},
   "outputs": [
    {
     "name": "stdout",
     "output_type": "stream",
     "text": [
      "                 id       host_id      latitude     longitude         price  \\\n",
      "count  2.000000e+04  2.000000e+04  20000.000000  20000.000000  20000.000000   \n",
      "mean   1.892380e+07  6.746034e+07     40.728455    -73.952125    153.269050   \n",
      "std    1.101223e+07  7.857936e+07      0.054755      0.046559    243.325609   \n",
      "min    2.539000e+03  2.571000e+03     40.508730    -74.239140      0.000000   \n",
      "25%    9.393540e+06  7.853718e+06     40.689420    -73.983030     69.000000   \n",
      "50%    1.952117e+07  3.111431e+07     40.722730    -73.955640    105.000000   \n",
      "75%    2.912936e+07  1.068426e+08     40.762990    -73.936380    175.000000   \n",
      "max    3.648561e+07  2.742733e+08     40.913060    -73.717950  10000.000000   \n",
      "\n",
      "       minimum_nights  number_of_reviews  reviews_per_month  \\\n",
      "count    20000.000000       20000.000000       15877.000000   \n",
      "mean         6.992100          23.274100           1.377446   \n",
      "std         21.645449          44.927793           1.683006   \n",
      "min          1.000000           0.000000           0.010000   \n",
      "25%          1.000000           1.000000           0.190000   \n",
      "50%          2.000000           5.000000           0.720000   \n",
      "75%          5.000000          23.000000           2.010000   \n",
      "max       1250.000000         607.000000          27.950000   \n",
      "\n",
      "       calculated_host_listings_count  availability_365  \n",
      "count                    20000.000000      20000.000000  \n",
      "mean                         6.955450        112.901200  \n",
      "std                         32.433831        131.762226  \n",
      "min                          1.000000          0.000000  \n",
      "25%                          1.000000          0.000000  \n",
      "50%                          1.000000         44.000000  \n",
      "75%                          2.000000        229.000000  \n",
      "max                        327.000000        365.000000  "
     ]
    }
   ],
   "source": [
    "df.describe()"
   ]
  },
  {
   "cell_type": "code",
   "execution_count": 5,
   "id": "cac880b0",
   "metadata": {},
   "outputs": [
    {
     "name": "stdout",
     "output_type": "stream",
     "text": [
      "         id                                               name    host_id  \\\n",
      "0   9138664                Private Lg Room 15 min to Manhattan   47594947   \n",
      "1  31444015  TIME SQUARE CHARMING ONE BED IN HELL'S KITCHEN...    8523790   \n",
      "2   8741020  Voted #1 Location Quintessential 1BR W Village...   45854238   \n",
      "3  34602077  Spacious 1 bedroom apartment 15min from Manhattan  261055465   \n",
      "4  23203149   Big beautiful bedroom in huge Bushwick apartment     143460   \n",
      "\n",
      "  host_name neighbourhood_group   neighbourhood  latitude  longitude  \\\n",
      "0      Iris              Queens       Sunnyside  40.74271  -73.92493   \n",
      "1    Johlex           Manhattan  Hell's Kitchen  40.76682  -73.98878   \n",
      "2      John           Manhattan    West Village  40.73631  -74.00611   \n",
      "3     Regan              Queens         Astoria  40.76424  -73.92351   \n",
      "4     Megan            Brooklyn        Bushwick  40.69839  -73.92044   \n",
      "\n",
      "         room_type  price  minimum_nights  number_of_reviews last_review  \\\n",
      "0     Private room     74               2                  6  2019-05-26   \n",
      "1  Entire home/apt    170               3                  0         NaN   \n",
      "2  Entire home/apt    245               3                 51  2018-09-19   \n",
      "3  Entire home/apt    125               3                  1  2019-05-24   \n",
      "4     Private room     65               2                  8  2019-06-23   \n",
      "\n",
      "   reviews_per_month  calculated_host_listings_count  availability_365  \n",
      "0               0.13                               1                 5  \n",
      "1                NaN                               1               188  \n",
      "2               1.12                               1                 0  \n",
      "3               0.65                               1                13  \n",
      "4               0.52                               2                 8  "
     ]
    }
   ],
   "source": [
    "df.head()"
   ]
  },
  {
   "cell_type": "code",
   "execution_count": 6,
   "id": "dfeaaa28",
   "metadata": {},
   "outputs": [],
   "source": [
    "# Drop outliers\n",
    "min_price = 10\n",
    "max_price = 350\n",
    "idx = df['price'].between(min_price, max_price)\n",
    "df = df[idx].copy()\n",
    "# Convert last_review to datetime\n",
    "df['last_review'] = pd.to_datetime(df['last_review'])"
   ]
  },
  {
   "cell_type": "code",
   "execution_count": 7,
   "id": "2eccecf8",
   "metadata": {},
   "outputs": [],
   "source": [
    "df.info()"
   ]
  },
  {
   "cell_type": "code",
   "execution_count": 8,
   "id": "42236d71",
   "metadata": {},
   "outputs": [],
   "source": [
    "run.finish()"
   ]
  }
 ],
 "metadata": {
  "kernelspec": {
   "display_name": "Python 3",
   "language": "python",
   "name": "python3"
  },
  "language_info": {
   "codemirror_mode": {
    "name": "ipython",
    "version": 3
   },
   "file_extension": ".py",
   "mimetype": "text/x-python",
   "name": "python",
   "nbconvert_exporter": "python",
   "pygments_lexer": "ipython3",
   "version": "3.9.15"
  }
 },
 "nbformat": 4,
 "nbformat_minor": 5
}
